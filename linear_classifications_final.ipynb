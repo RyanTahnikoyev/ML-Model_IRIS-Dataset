{
 "cells": [
  {
   "cell_type": "markdown",
   "metadata": {
    "colab_type": "text",
    "id": "ri6UiGU5T5aj"
   },
   "source": [
    "##Linear Classification of the Dataset: IRIS\n",
    "#Final Linear Classification"
   ]
  },
  {
   "cell_type": "code",
   "execution_count": 1,
   "metadata": {
    "colab": {},
    "colab_type": "code",
    "id": "c32_FG83T5a7"
   },
   "outputs": [],
   "source": [
    "import sklearn\n",
    "from sklearn import datasets\n",
    "\n",
    "iris = datasets.load_iris()\n",
    "X_temp = iris.data\n",
    "y_temp = iris.target"
   ]
  },
  {
   "cell_type": "code",
   "execution_count": 2,
   "metadata": {
    "colab": {},
    "colab_type": "code",
    "id": "RknPx8MPT5bN"
   },
   "outputs": [],
   "source": [
    "from sklearn.model_selection import train_test_split\n",
    "from sklearn import preprocessing\n",
    " \n",
    "X, y = X_temp[:, [0,1]], y_temp\n",
    
    "X_train, X_test, y_train, y_test = train_test_split(X, y, test_size=0.25, random_state=33)\n",
    "    \n",
    "\n",
    "scaler = preprocessing.StandardScaler().fit(X_train)\n",
    "X_train = scaler.transform(X_train)\n",
    "X_test = scaler.transform(X_test)"
   ]
  },
  {
   "cell_type": "code",
   "execution_count": 3,
   "metadata": {
    "colab": {
     "base_uri": "https://localhost:8080/",
     "height": 50
    },
    "colab_type": "code",
    "executionInfo": {
     "elapsed": 1151,
     "status": "ok",
     "timestamp": 1553320280755,
     "user": {
      "displayName": "Rakibul Hassan",
      "photoUrl": "https://lh5.googleusercontent.com/-k6ha6Lb5V1I/AAAAAAAAAAI/AAAAAAADTe0/tncvSRiHQuM/s64/photo.jpg",
      "userId": "01746411693321975946"
     },
     "user_tz": -360
    },
    "id": "Xon7VkoGT5bR",
    "outputId": "0d3dde8d-cec1-44ea-813f-544642ad1062"
   },
   "outputs": [
    {
     "name": "stdout",
     "output_type": "stream",
     "text": [
      "Training set mean:0.00 and standard deviation:1.00\n",
      "Testing set mean:0.13 and standard deviation:0.71\n"
     ]
    }
   ],
   "source": [
    "import numpy as np\n",
    "print ('Training set mean:{:.2f} and standard deviation:{:.2f}'.format(np.average(X_train),np.std(X_train)))\n",
    "print ('Testing set mean:{:.2f} and standard deviation:{:.2f}'.format(np.average(X_test),np.std(X_test)))\n"
   ]
  },
  {
   "cell_type": "code",
   "execution_count": 4,
   "metadata": {
    "colab": {
     "base_uri": "https://localhost:8080/",
     "height": 472
    },
    "colab_type": "code",
    "executionInfo": {
     "elapsed": 1741,
     "status": "ok",
     "timestamp": 1553320281370,
     "user": {
      "displayName": "Rakibul Hassan",
      "photoUrl": "https://lh5.googleusercontent.com/-k6ha6Lb5V1I/AAAAAAAAAAI/AAAAAAADTe0/tncvSRiHQuM/s64/photo.jpg",
      "userId": "01746411693321975946"
     },
     "user_tz": -360
    },
    "id": "DPCGNVefT5bW",
    "outputId": "404154ae-efb9-48d5-8481-8dda360776cc"
   },
   "outputs": [
    {
     "data": {
      "image/png": "[encoded data removed]",
      "text/plain": [
       "<matplotlib.figure.Figure at 0x1e44e680e80>"
      ]
     },
     "metadata": {},
     "output_type": "display_data"
    }
   ],
   "source": [
    "import matplotlib.pyplot as plt\n",
    "\n",
    "colour_mk = [ ['red','s'], ['green','o'], ['blue','x']]\n",
    "plt.figure('Training Data')\n",
    "\n",
    "for i in range(len(colour_mk)):\n",
    "    xs = X_train[:, 0][y_train == i]\n",
    "    ys = X_train[:, 1][y_train == i]\n",
    "    plt.scatter(xs, ys, c=colour_mk[i][0], marker=colour_mk[i][1])\n",
    "\n",
    "# plt.rcParams['axes.facecolor'] = 'white'\n",
    "plt.style.use('default')\n",
    "plt.grid(c='grey')\n",
    "\n",
    "\n",
    "plt.title('Training instances, after scaling')\n",
    "plt.legend(iris.target_names)\n",
    "plt.xlabel('Sepal length')\n",
    "plt.ylabel('Sepal width')\n",
    "plt.show()\n"
   ]
  },
  {
   "cell_type": "code",
   "execution_count": 5,
   "metadata": {
    "colab": {
     "base_uri": "https://localhost:8080/",
     "height": 101
    },
    "colab_type": "code",
    "executionInfo": {
     "elapsed": 1717,
     "status": "ok",
     "timestamp": 1553320281373,
     "user": {
      "displayName": "Rakibul Hassan",
      "photoUrl": "https://lh5.googleusercontent.com/-k6ha6Lb5V1I/AAAAAAAAAAI/AAAAAAADTe0/tncvSRiHQuM/s64/photo.jpg",
      "userId": "01746411693321975946"
     },
     "user_tz": -360
    },
    "id": "yLoZKBnCT5bd",
    "outputId": "176c8807-a417-4d4e-ba3e-2662d2c4958c"
   },
   "outputs": [
    {
     "name": "stdout",
     "output_type": "stream",
     "text": [
      "New training target classes:\n",
      "[1 0 1 1 1 0 0 1 0 1 0 0 1 1 0 1 1 1 1 1 0 0 1 0 0 1 1 1 1 1 1 1 0 0 1 1 0\n",
      " 1 1 1 1 0 1 0 1 0 1 1 0 1 1 0 0 1 0 0 0 1 1 0 1 0 1 0 1 1 1 1 1 0 1 0 1 1\n",
      " 0 0 0 0 1 1 0 1 1 1 1 0 0 1 1 1 0 1 1 0 1 1 1 1 1 0 1 0 0 0 1 1 1 1 1 1 1\n",
      " 0]\n"
     ]
    }
   ],
   "source": [
    "import copy \n",
    "y_train_setosa = copy.copy(y_train) \n",
    "\n",
    "y_train_setosa[y_train_setosa > 0]=1\n",
    "y_test_setosa = copy.copy(y_test)\n",
    "y_test_setosa[y_test_setosa > 0]=1\n",
    "\n",
    "print ('New training target classes:\\n{0}'.format(y_train_setosa))\n"
   ]
  },
  {
   "cell_type": "code",
   "execution_count": 6,
   "metadata": {
    "colab": {},
    "colab_type": "code",
    "id": "0jrNibUVT5bo"
   },
   "outputs": [],
   "source": [
    "from sklearn import linear_model \n",
    "clf = linear_model.SGDClassifier(loss='log', random_state=42)"
   ]
  },
  {
   "cell_type": "code",
   "execution_count": 7,
   "metadata": {
    "colab": {
     "base_uri": "https://localhost:8080/",
     "height": 171
    },
    "colab_type": "code",
    "executionInfo": {
     "elapsed": 1682,
     "status": "ok",
     "timestamp": 1553320281377,
     "user": {
      "displayName": "Rakibul Hassan",
      "photoUrl": "https://lh5.googleusercontent.com/-k6ha6Lb5V1I/AAAAAAAAAAI/AAAAAAADTe0/tncvSRiHQuM/s64/photo.jpg",
      "userId": "01746411693321975946"
     },
     "user_tz": -360
    },
    "id": "h9Tf4RvNT5bx",
    "outputId": "ae265d38-982b-41c4-c7b5-d9e1dc57a3d8"
   },
   "outputs": [
    {
     "name": "stderr",
     "output_type": "stream",
     "text": [
      "C:\\Users\\Test\\Anaconda3\\lib\\site-packages\\sklearn\\linear_model\\stochastic_gradient.py:128: FutureWarning: max_iter and tol parameters have been added in <class 'sklearn.linear_model.stochastic_gradient.SGDClassifier'> in 0.19. If both are left unset, they default to max_iter=5 and tol=None. If tol is not None, max_iter defaults to max_iter=1000. From 0.21, default max_iter will be 1000, and default tol will be 1e-3.\n",
      "  \"and default tol will be 1e-3.\" % type(self), FutureWarning)\n"
     ]
    },
    {
     "data": {
      "text/plain": [
       "SGDClassifier(alpha=0.0001, average=False, class_weight=None, epsilon=0.1,\n",
       "       eta0=0.0, fit_intercept=True, l1_ratio=0.15,\n",
       "       learning_rate='optimal', loss='log', max_iter=None, n_iter=None,\n",
       "       n_jobs=1, penalty='l2', power_t=0.5, random_state=42, shuffle=True,\n",
       "       tol=None, verbose=0, warm_start=False)"
      ]
     },
     "execution_count": 7,
     "metadata": {},
     "output_type": "execute_result"
    }
   ],
   "source": [
    "clf.fit(X_train, y_train_setosa)\n",
    "\n",
    "    "
   ]
  },
  {
   "cell_type": "code",
   "execution_count": null,
   "metadata": {
    "colab": {
     "base_uri": "https://localhost:8080/",
     "height": 34
    },
    "colab_type": "code",
    "executionInfo": {
     "elapsed": 1666,
     "status": "ok",
     "timestamp": 1553320281378,
     "user": {
      "displayName": "Rakibul Hassan",
      "photoUrl": "https://lh5.googleusercontent.com/-k6ha6Lb5V1I/AAAAAAAAAAI/AAAAAAADTe0/tncvSRiHQuM/s64/photo.jpg",
      "userId": "01746411693321975946"
     },
     "user_tz": -360
    },
    "id": "94ScDMvbT5b1",
    "outputId": "a521ef7f-8ba2-4d25-ede6-b597a1167bb7"
   },
   "outputs": [],
   "source": [
    "print (clf.coef_,clf.intercept_)\n"
   ]
  },
  {
   "cell_type": "markdown",
   "metadata": {
    "colab_type": "text",
    "id": "bg1L0kSLT5b5"
   },
   "source": []
  },
  {
   "cell_type": "code",
   "execution_count": 9,
   "metadata": {
    "colab": {
     "base_uri": "https://localhost:8080/",
     "height": 34
    },
    "colab_type": "code",
    "executionInfo": {
     "elapsed": 1632,
     "status": "ok",
     "timestamp": 1553320281380,
     "user": {
      "displayName": "Rakibul Hassan",
      "photoUrl": "https://lh5.googleusercontent.com/-k6ha6Lb5V1I/AAAAAAAAAAI/AAAAAAADTe0/tncvSRiHQuM/s64/photo.jpg",
      "userId": "01746411693321975946"
     },
     "user_tz": -360
    },
    "id": "J3_a65KZ8Si6",
    "outputId": "53e6b2c5-1f1b-4401-a987-045ea994cdf0"
   },
   "outputs": [
    {
     "name": "stdout",
     "output_type": "stream",
     "text": [
      "If the flower has 4.6 petal width and 3.2 petal length is a ['setosa']\n"
     ]
    }
   ],
   "source": [
    "print ('If the flower has 4.6 petal width and 3.2 petal length is a {}'.format(\n",
    "        iris.target_names[clf.predict(scaler.transform([[4.6, 3.2]]))]))"
   ]
  },
  {
   "cell_type": "markdown",
   "metadata": {
    "colab_type": "text",
    "id": "gVKeWGJq9gZ4"
   },
   "source": []
  }
 ],
 "metadata": {
  "accelerator": "GPU",
  "colab": {
   "collapsed_sections": [],
   "name": "linear-clf.ipynb",
   "provenance": [
    {
     "file_id": "https://github.com/raqueeb/ml-python/blob/master/linear_clf.ipynb",
     "timestamp": 1553282047266
    }
   ],
   "toc_visible": true,
   "version": "0.3.2"
  },
  "kernelspec": {
   "display_name": "Python 3",
   "language": "python",
   "name": "python3"
  },
  "language_info": {
   "codemirror_mode": {
    "name": "ipython",
    "version": 3
   },
   "file_extension": ".py",
   "mimetype": "text/x-python",
   "name": "python",
   "nbconvert_exporter": "python",
   "pygments_lexer": "ipython3",
   "version": "3.7.3"
  }
 },
 "nbformat": 4,
 "nbformat_minor": 4
}
